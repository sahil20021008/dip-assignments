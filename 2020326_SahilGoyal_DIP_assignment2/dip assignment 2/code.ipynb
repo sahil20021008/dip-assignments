{
 "cells": [
  {
   "cell_type": "code",
   "execution_count": 26,
   "metadata": {},
   "outputs": [],
   "source": [
    "import cv2\n",
    "import numpy as np\n",
    "import math"
   ]
  },
  {
   "cell_type": "code",
   "execution_count": 27,
   "metadata": {},
   "outputs": [],
   "source": [
    "def psnr(image1, image2):\n",
    "    mse = np.mean((image1 - image2) ** 2)\n",
    "    if mse == 0:\n",
    "        return float(\"inf\")\n",
    "    max_pixel = 255.0\n",
    "    psnr = 20 * math.log10(max_pixel / math.sqrt(mse))\n",
    "    return psnr"
   ]
  },
  {
   "cell_type": "markdown",
   "metadata": {},
   "source": [
    "# Question 1\n"
   ]
  },
  {
   "cell_type": "code",
   "execution_count": 28,
   "metadata": {},
   "outputs": [],
   "source": [
    "img_path = \"barbara_gray.bmp\""
   ]
  },
  {
   "cell_type": "code",
   "execution_count": 29,
   "metadata": {},
   "outputs": [
    {
     "name": "stdout",
     "output_type": "stream",
     "text": [
      "(512, 512)\n"
     ]
    }
   ],
   "source": [
    "img = cv2.imread(img_path, cv2.IMREAD_GRAYSCALE)\n",
    "print(img.shape)\n",
    "cv2.imshow(\"image\", img)\n",
    "cv2.waitKey(0)\n",
    "cv2.destroyAllWindows()"
   ]
  },
  {
   "cell_type": "code",
   "execution_count": 31,
   "metadata": {},
   "outputs": [],
   "source": [
    "def median_convolve(image, kernel_size):\n",
    "    rows, cols = image.shape\n",
    "    output_image = np.zeros((rows, cols), dtype=np.uint8)\n",
    "    kernel_half = kernel_size // 2\n",
    "    for i in range(kernel_half, rows - kernel_half):\n",
    "        for j in range(kernel_half, cols - kernel_half):\n",
    "            temp = image[\n",
    "                i - kernel_half : i + kernel_half + 1,\n",
    "                j - kernel_half : j + kernel_half + 1,\n",
    "            ]\n",
    "            output_image[i, j] = np.median(temp)\n",
    "    for i in range(kernel_half):\n",
    "        output_image[i, :] = np.median(image[: i + kernel_half + 1, :], axis=0)\n",
    "        output_image[-i - 1, :] = np.median(image[-i - kernel_half - 1 :, :], axis=0)\n",
    "        output_image[:, i] = np.median(image[:, : i + kernel_half + 1], axis=1)\n",
    "        output_image[:, -i - 1] = np.median(image[:, -i - kernel_half - 1 :], axis=1)\n",
    "    return output_image"
   ]
  },
  {
   "cell_type": "code",
   "execution_count": 32,
   "metadata": {},
   "outputs": [],
   "source": [
    "def salt_pepper_noise(image, n):\n",
    "    p = n / 2\n",
    "    s = 1 - p\n",
    "    noise = np.random.random(image.shape)\n",
    "    output = np.where(noise < p, 0, np.where(noise > s, 255, image))\n",
    "    return output.astype(np.uint8)"
   ]
  },
  {
   "cell_type": "code",
   "execution_count": 33,
   "metadata": {},
   "outputs": [
    {
     "data": {
      "text/plain": [
       "True"
      ]
     },
     "execution_count": 33,
     "metadata": {},
     "output_type": "execute_result"
    }
   ],
   "source": [
    "noisy_image = salt_pepper_noise(img, 0.05)\n",
    "cv2.imshow(\"Noisy Image 5 percent noise\", noisy_image)\n",
    "cv2.waitKey(0)\n",
    "cv2.destroyAllWindows()\n",
    "cv2.imwrite(\"Noisy Image 5 percent noise.png\", noisy_image)"
   ]
  },
  {
   "cell_type": "code",
   "execution_count": 34,
   "metadata": {},
   "outputs": [
    {
     "name": "stdout",
     "output_type": "stream",
     "text": [
      "PSNR for 5 percent noise and 3x3 kernel size is  32.85325699255325\n"
     ]
    }
   ],
   "source": [
    "denoise_image = median_convolve(noisy_image, 3)\n",
    "cv2.imshow(\"q1_denoise_image_5_percent_noise_3x3\", denoise_image)\n",
    "cv2.waitKey(0)\n",
    "cv2.destroyAllWindows()\n",
    "cv2.imwrite(\"q1_denoise_image_5_percent_noise_3x3.png\", denoise_image)\n",
    "print(\"PSNR for 5 percent noise and 3x3 kernel size is \", psnr(img, denoise_image))"
   ]
  },
  {
   "cell_type": "code",
   "execution_count": 35,
   "metadata": {},
   "outputs": [
    {
     "name": "stdout",
     "output_type": "stream",
     "text": [
      "PSNR for 5 percent noise and 5x5 kernel size is  31.648457933716173\n"
     ]
    }
   ],
   "source": [
    "denoise_image = median_convolve(noisy_image, 5)\n",
    "cv2.imshow(\"q1_denoise_image_5_percent_noise_5x5\", denoise_image)\n",
    "cv2.waitKey(0)\n",
    "cv2.destroyAllWindows()\n",
    "cv2.imwrite(\"q1_denoise_image_5_percent_noise_5x5.png\", denoise_image)\n",
    "print(\"PSNR for 5 percent noise and 5x5 kernel size is \", psnr(img, denoise_image))"
   ]
  },
  {
   "cell_type": "code",
   "execution_count": 36,
   "metadata": {},
   "outputs": [
    {
     "name": "stdout",
     "output_type": "stream",
     "text": [
      "PSNR for 5 percent noise and 7x7 kernel size is  31.227796169358093\n"
     ]
    }
   ],
   "source": [
    "denoise_image = median_convolve(noisy_image, 7)\n",
    "cv2.imshow(\"q1_denoise_image_5_percent_noise_7x7\", denoise_image)\n",
    "cv2.waitKey(0)\n",
    "cv2.destroyAllWindows()\n",
    "cv2.imwrite(\"q1_denoise_image_5_percent_noise_7x7.png\", denoise_image)\n",
    "print(\"PSNR for 5 percent noise and 7x7 kernel size is \", psnr(img, denoise_image))"
   ]
  },
  {
   "cell_type": "code",
   "execution_count": 37,
   "metadata": {},
   "outputs": [
    {
     "name": "stdout",
     "output_type": "stream",
     "text": [
      "PSNR for 5 percent noise and 9x9 kernel size is  30.91423144993819\n"
     ]
    }
   ],
   "source": [
    "denoise_image = median_convolve(noisy_image, 9)\n",
    "cv2.imshow(\"q1_denoise_image_5_percent_noise_9x9\", denoise_image)\n",
    "cv2.waitKey(0)\n",
    "cv2.destroyAllWindows()\n",
    "cv2.imwrite(\"q1_denoise_image_5_percent_noise_9x9.png\", denoise_image)\n",
    "print(\"PSNR for 5 percent noise and 9x9 kernel size is \", psnr(img, denoise_image))"
   ]
  },
  {
   "cell_type": "code",
   "execution_count": 38,
   "metadata": {},
   "outputs": [
    {
     "data": {
      "text/plain": [
       "True"
      ]
     },
     "execution_count": 38,
     "metadata": {},
     "output_type": "execute_result"
    }
   ],
   "source": [
    "noisy_image = salt_pepper_noise(img, 0.15)\n",
    "cv2.imshow(\"Noisy Image 15 percent noise\", noisy_image)\n",
    "cv2.waitKey(0)\n",
    "cv2.destroyAllWindows()\n",
    "cv2.imwrite(\"Noisy Image 15 percent noise.png\", noisy_image)"
   ]
  },
  {
   "cell_type": "code",
   "execution_count": 39,
   "metadata": {},
   "outputs": [
    {
     "name": "stdout",
     "output_type": "stream",
     "text": [
      "PSNR for 15 percent noise and 3x3 kernel size is  32.472738356533604\n"
     ]
    }
   ],
   "source": [
    "denoise_image = median_convolve(noisy_image, 3)\n",
    "cv2.imshow(\"q1_denoise_image_15_percent_noise_3x3\", denoise_image)\n",
    "cv2.waitKey(0)\n",
    "cv2.destroyAllWindows()\n",
    "cv2.imwrite(\"q1_denoise_image_15_percent_noise_3x3.png\", denoise_image)\n",
    "print(\"PSNR for 15 percent noise and 3x3 kernel size is \", psnr(img, denoise_image))"
   ]
  },
  {
   "cell_type": "code",
   "execution_count": 40,
   "metadata": {},
   "outputs": [
    {
     "name": "stdout",
     "output_type": "stream",
     "text": [
      "PSNR for 15 percent noise and 5x5 kernel size is  31.496862816833872\n"
     ]
    }
   ],
   "source": [
    "denoise_image = median_convolve(noisy_image, 5)\n",
    "cv2.imshow(\"q1_denoise_image_15_percent_noise_5x5\", denoise_image)\n",
    "cv2.waitKey(0)\n",
    "cv2.destroyAllWindows()\n",
    "cv2.imwrite(\"q1_denoise_image_15_percent_noise_5x5.png\", denoise_image)\n",
    "print(\"PSNR for 15 percent noise and 5x5 kernel size is \", psnr(img, denoise_image))"
   ]
  },
  {
   "cell_type": "code",
   "execution_count": 41,
   "metadata": {},
   "outputs": [
    {
     "name": "stdout",
     "output_type": "stream",
     "text": [
      "PSNR for 15 percent noise and 7x7 kernel size is  31.12909550725767\n"
     ]
    }
   ],
   "source": [
    "denoise_image = median_convolve(noisy_image, 7)\n",
    "cv2.imshow(\"q1_denoise_image_15_percent_noise_7x7\", denoise_image)\n",
    "cv2.waitKey(0)\n",
    "cv2.destroyAllWindows()\n",
    "cv2.imwrite(\"q1_denoise_image_15_percent_noise_7x7.png\", denoise_image)\n",
    "print(\"PSNR for 15 percent noise and 7x7 kernel size is \", psnr(img, denoise_image))"
   ]
  },
  {
   "cell_type": "code",
   "execution_count": 42,
   "metadata": {},
   "outputs": [
    {
     "name": "stdout",
     "output_type": "stream",
     "text": [
      "PSNR for 15 percent noise and 9x9 kernel size is  30.866765684552888\n"
     ]
    }
   ],
   "source": [
    "denoise_image = median_convolve(noisy_image, 9)\n",
    "cv2.imshow(\"q1_denoise_image_15_percent_noise_9x9\", denoise_image)\n",
    "cv2.waitKey(0)\n",
    "cv2.destroyAllWindows()\n",
    "cv2.imwrite(\"q1_denoise_image_15_percent_noise_9x9.png\", denoise_image)\n",
    "print(\"PSNR for 15 percent noise and 9x9 kernel size is \", psnr(img, denoise_image))"
   ]
  },
  {
   "cell_type": "code",
   "execution_count": 43,
   "metadata": {},
   "outputs": [
    {
     "data": {
      "text/plain": [
       "True"
      ]
     },
     "execution_count": 43,
     "metadata": {},
     "output_type": "execute_result"
    }
   ],
   "source": [
    "noisy_image = salt_pepper_noise(img, 0.20)\n",
    "cv2.imshow(\"Noisy Image 20 percent noise\", noisy_image)\n",
    "cv2.waitKey(0)\n",
    "cv2.destroyAllWindows()\n",
    "cv2.imwrite(\"Noisy Image 20 percent noise.png\", noisy_image)"
   ]
  },
  {
   "cell_type": "code",
   "execution_count": 44,
   "metadata": {},
   "outputs": [
    {
     "name": "stdout",
     "output_type": "stream",
     "text": [
      "PSNR for 20 percent noise and 3x3 kernel size is  32.29973307798793\n"
     ]
    }
   ],
   "source": [
    "denoise_image = median_convolve(noisy_image, 3)\n",
    "cv2.imshow(\"q1_denoise_image_20_percent_noise_3x3\", denoise_image)\n",
    "cv2.waitKey(0)\n",
    "cv2.destroyAllWindows()\n",
    "cv2.imwrite(\"q1_denoise_image_20_percent_noise_3x3.png\", denoise_image)\n",
    "print(\"PSNR for 20 percent noise and 3x3 kernel size is \", psnr(img, denoise_image))"
   ]
  },
  {
   "cell_type": "code",
   "execution_count": 45,
   "metadata": {},
   "outputs": [
    {
     "name": "stdout",
     "output_type": "stream",
     "text": [
      "PSNR for 20 percent noise and 5x5 kernel size is  31.423130023919235\n"
     ]
    }
   ],
   "source": [
    "denoise_image = median_convolve(noisy_image, 5)\n",
    "cv2.imshow(\"q1_denoise_image_20_percent_noise_5x5\", denoise_image)\n",
    "cv2.waitKey(0)\n",
    "cv2.destroyAllWindows()\n",
    "cv2.imwrite(\"q1_denoise_image_20_percent_noise_5x5.png\", denoise_image)\n",
    "print(\"PSNR for 20 percent noise and 5x5 kernel size is \", psnr(img, denoise_image))"
   ]
  },
  {
   "cell_type": "code",
   "execution_count": 46,
   "metadata": {},
   "outputs": [
    {
     "name": "stdout",
     "output_type": "stream",
     "text": [
      "PSNR for 20 percent noise and 7x7 kernel size is  31.09266107873301\n"
     ]
    }
   ],
   "source": [
    "denoise_image = median_convolve(noisy_image, 7)\n",
    "cv2.imshow(\"q1_denoise_image_20_percent_noise_7x7\", denoise_image)\n",
    "cv2.waitKey(0)\n",
    "cv2.destroyAllWindows()\n",
    "cv2.imwrite(\"q1_denoise_image_20_percent_noise_7x7.png\", denoise_image)\n",
    "print(\"PSNR for 20 percent noise and 7x7 kernel size is \", psnr(img, denoise_image))"
   ]
  },
  {
   "cell_type": "code",
   "execution_count": 47,
   "metadata": {},
   "outputs": [
    {
     "name": "stdout",
     "output_type": "stream",
     "text": [
      "PSNR for 20 percent noise and 9x9 kernel size is  30.834849618481513\n"
     ]
    }
   ],
   "source": [
    "denoise_image = median_convolve(noisy_image, 9)\n",
    "cv2.imshow(\"q1_denoise_image_20_percent_noise_9x9\", denoise_image)\n",
    "cv2.waitKey(0)\n",
    "cv2.destroyAllWindows()\n",
    "cv2.imwrite(\"q1_denoise_image_20_percent_noise_9x9.png\", denoise_image)\n",
    "print(\"PSNR for 20 percent noise and 9x9 kernel size is \", psnr(img, denoise_image))"
   ]
  },
  {
   "cell_type": "code",
   "execution_count": 48,
   "metadata": {},
   "outputs": [
    {
     "data": {
      "text/plain": [
       "True"
      ]
     },
     "execution_count": 48,
     "metadata": {},
     "output_type": "execute_result"
    }
   ],
   "source": [
    "noisy_image = salt_pepper_noise(img, 0.25)\n",
    "cv2.imshow(\"Noisy Image 25 percent noise\", noisy_image)\n",
    "cv2.waitKey(0)\n",
    "cv2.destroyAllWindows()\n",
    "cv2.imwrite(\"Noisy Image 25 percent noise.png\", noisy_image)"
   ]
  },
  {
   "cell_type": "code",
   "execution_count": 49,
   "metadata": {},
   "outputs": [
    {
     "name": "stdout",
     "output_type": "stream",
     "text": [
      "PSNR for 25 percent noise and 3x3 kernel size is  32.130358195104684\n"
     ]
    }
   ],
   "source": [
    "denoise_image = median_convolve(noisy_image, 3)\n",
    "cv2.imshow(\"q1_denoise_image_25_percent_noise_3x3\", denoise_image)\n",
    "cv2.waitKey(0)\n",
    "cv2.destroyAllWindows()\n",
    "cv2.imwrite(\"q1_denoise_image_25_percent_noise_3x3.png\", denoise_image)\n",
    "print(\"PSNR for 25 percent noise and 3x3 kernel size is \", psnr(img, denoise_image))"
   ]
  },
  {
   "cell_type": "code",
   "execution_count": 50,
   "metadata": {},
   "outputs": [
    {
     "name": "stdout",
     "output_type": "stream",
     "text": [
      "PSNR for 25 percent noise and 5x5 kernel size is  31.361688188306402\n"
     ]
    }
   ],
   "source": [
    "denoise_image = median_convolve(noisy_image, 5)\n",
    "cv2.imshow(\"q1_denoise_image_25_percent_noise_5x5\", denoise_image)\n",
    "cv2.waitKey(0)\n",
    "cv2.destroyAllWindows()\n",
    "cv2.imwrite(\"q1_denoise_image_25_percent_noise_5x5.png\", denoise_image)\n",
    "print(\"PSNR for 25 percent noise and 5x5 kernel size is \", psnr(img, denoise_image))"
   ]
  },
  {
   "cell_type": "code",
   "execution_count": 51,
   "metadata": {},
   "outputs": [
    {
     "name": "stdout",
     "output_type": "stream",
     "text": [
      "PSNR for 25 percent noise and 7x7 kernel size is  31.04157177305229\n"
     ]
    }
   ],
   "source": [
    "denoise_image = median_convolve(noisy_image, 7)\n",
    "cv2.imshow(\"q1_denoise_image_25_percent_noise_7x7\", denoise_image)\n",
    "cv2.waitKey(0)\n",
    "cv2.destroyAllWindows()\n",
    "cv2.imwrite(\"q1_denoise_image_25_percent_noise_7x7.png\", denoise_image)\n",
    "print(\"PSNR for 25 percent noise and 7x7 kernel size is \", psnr(img, denoise_image))"
   ]
  },
  {
   "cell_type": "code",
   "execution_count": 52,
   "metadata": {},
   "outputs": [
    {
     "name": "stdout",
     "output_type": "stream",
     "text": [
      "PSNR for 25 percent noise and 9x9 kernel size is  30.79919458982751\n"
     ]
    }
   ],
   "source": [
    "denoise_image = median_convolve(noisy_image, 9)\n",
    "cv2.imshow(\"q1_denoise_image_25_percent_noise_9x9\", denoise_image)\n",
    "cv2.waitKey(0)\n",
    "cv2.destroyAllWindows()\n",
    "cv2.imwrite(\"q1_denoise_image_25_percent_noise_9x9.png\", denoise_image)\n",
    "print(\"PSNR for 25 percent noise and 9x9 kernel size is \", psnr(img, denoise_image))"
   ]
  },
  {
   "cell_type": "markdown",
   "metadata": {},
   "source": [
    "# Question 2\n"
   ]
  },
  {
   "cell_type": "code",
   "execution_count": 53,
   "metadata": {},
   "outputs": [],
   "source": [
    "img2_path = \"cameraman.png\""
   ]
  },
  {
   "cell_type": "code",
   "execution_count": 54,
   "metadata": {},
   "outputs": [
    {
     "name": "stdout",
     "output_type": "stream",
     "text": [
      "(513, 513)\n"
     ]
    }
   ],
   "source": [
    "img2 = cv2.imread(img2_path, cv2.IMREAD_GRAYSCALE)\n",
    "print(img2.shape)\n",
    "cv2.imshow(\"image\", img2)\n",
    "cv2.waitKey(0)\n",
    "cv2.destroyAllWindows()"
   ]
  },
  {
   "cell_type": "code",
   "execution_count": 55,
   "metadata": {},
   "outputs": [],
   "source": [
    "scale = 4"
   ]
  },
  {
   "cell_type": "code",
   "execution_count": 56,
   "metadata": {},
   "outputs": [],
   "source": [
    "def resize_image(image, scale):\n",
    "    image = image[1:, 1:]\n",
    "    original_height, original_width = image.shape\n",
    "    new_height = int(original_height / scale)\n",
    "    new_width = int(original_width / scale)\n",
    "    resized_image = np.zeros((new_height, new_width), dtype=np.uint8)\n",
    "    for x in range(new_height):\n",
    "        for y in range(new_width):\n",
    "            px = int(x * scale)\n",
    "            py = int(y * scale)\n",
    "            resized_image[x, y] = image[px, py]\n",
    "    return resized_image"
   ]
  },
  {
   "cell_type": "code",
   "execution_count": 57,
   "metadata": {},
   "outputs": [],
   "source": [
    "def add_padding(image):\n",
    "    row, col = image.shape\n",
    "    output = np.zeros((row + 1, col + 1), dtype=np.uint8)\n",
    "    output[1:, 1:] = image\n",
    "    output[0, 1:] = image[0, :]\n",
    "    output[1:, 0] = image[:, 0]\n",
    "    output[0, 0] = image[0, 0]\n",
    "    return output"
   ]
  },
  {
   "cell_type": "code",
   "execution_count": 58,
   "metadata": {},
   "outputs": [],
   "source": [
    "def nearest_neighbor_interpolation(image, scale):\n",
    "    original_height, original_width = image.shape\n",
    "    new_height = int(original_height * scale)\n",
    "    new_width = int(original_width * scale)\n",
    "    resized_image = np.zeros((new_height, new_width), dtype=np.uint8)\n",
    "    for x in range(new_height):\n",
    "        for y in range(new_width):\n",
    "            px = int(x / scale)\n",
    "            py = int(y / scale)\n",
    "            resized_image[x, y] = image[px, py]\n",
    "    return resized_image"
   ]
  },
  {
   "cell_type": "code",
   "execution_count": 59,
   "metadata": {},
   "outputs": [],
   "source": [
    "def bilinear_interpolation(image, scale):\n",
    "    original_height, original_width = image.shape\n",
    "    new_height = int(original_height * scale)\n",
    "    new_width = int(original_width * scale)\n",
    "    resized_image = np.zeros((new_height, new_width), dtype=np.uint8)\n",
    "    for x in range(new_height):\n",
    "        for y in range(new_width):\n",
    "            px = x / scale\n",
    "            py = y / scale\n",
    "            x1 = int(px)\n",
    "            x2 = x1 + 1\n",
    "            if x2 >= original_height:\n",
    "                x2 = x1\n",
    "            y1 = int(py)\n",
    "            y2 = y1 + 1\n",
    "            if y2 >= original_width:\n",
    "                y2 = y1\n",
    "            interpolated_value = (\n",
    "                (x2 - px) * (y2 - py) * image[x1, y1]\n",
    "                + (x2 - px) * (py - y1) * image[x1, y2]\n",
    "                + (px - x1) * (y2 - py) * image[x2, y1]\n",
    "                + (px - x1) * (py - y1) * image[x2, y2]\n",
    "            )\n",
    "            resized_image[x, y] = interpolated_value\n",
    "    return resized_image"
   ]
  },
  {
   "cell_type": "code",
   "execution_count": 60,
   "metadata": {},
   "outputs": [],
   "source": [
    "def bell_kernel(x):\n",
    "    if abs(x) < 0.5:\n",
    "        return 0.75 - x**2\n",
    "    elif abs(x) < 1.5:\n",
    "        return (abs(x) - 1.5) ** 2 * 0.5\n",
    "    else:\n",
    "        return 0\n",
    "\n",
    "\n",
    "def bell_interpolation(image, scale):\n",
    "    original_height, original_width = image.shape\n",
    "    new_height = int(original_height * scale)\n",
    "    new_width = int(original_width * scale)\n",
    "    resized_image = np.zeros((new_height, new_width), dtype=np.uint8)\n",
    "    for x in range(new_height):\n",
    "        for y in range(new_width):\n",
    "            px = x / scale\n",
    "            py = y / scale\n",
    "            x1 = int(px)\n",
    "            y1 = int(py)\n",
    "            interpolated_value = 0\n",
    "            for i in range(4):\n",
    "                for j in range(4):\n",
    "                    bell_x = bell_kernel(px - x1 - i + 1)\n",
    "                    bell_y = bell_kernel(py - y1 - j + 1)\n",
    "                    interpolated_value += (\n",
    "                        bell_x\n",
    "                        * bell_y\n",
    "                        * image[\n",
    "                            np.clip(x1 + i - 1, 0, original_height - 1),\n",
    "                            np.clip(y1 + j - 1, 0, original_width - 1),\n",
    "                        ]\n",
    "                    )\n",
    "            resized_image[x, y] = interpolated_value\n",
    "    return resized_image"
   ]
  },
  {
   "cell_type": "code",
   "execution_count": 61,
   "metadata": {},
   "outputs": [],
   "source": [
    "def hermite_kernel(x):\n",
    "    if abs(x) < 1:\n",
    "        return (2 * abs(x) - 3) * x**2 + 1\n",
    "    else:\n",
    "        return 0\n",
    "\n",
    "\n",
    "def hermite_interpolation(image, scale):\n",
    "    original_height, original_width = image.shape\n",
    "    new_height = int(original_height * scale)\n",
    "    new_width = int(original_width * scale)\n",
    "    resized_image = np.zeros((new_height, new_width), dtype=np.uint8)\n",
    "    for x in range(new_height):\n",
    "        for y in range(new_width):\n",
    "            px = x / scale\n",
    "            py = y / scale\n",
    "            x1 = int(px)\n",
    "            y1 = int(py)\n",
    "            interpolated_value = 0\n",
    "            for i in range(4):\n",
    "                for j in range(4):\n",
    "                    hermite_x = hermite_kernel(px - x1 - i + 1)\n",
    "                    hermite_y = hermite_kernel(py - y1 - j + 1)\n",
    "                    interpolated_value += (\n",
    "                        hermite_x\n",
    "                        * hermite_y\n",
    "                        * image[\n",
    "                            np.clip(x1 + i - 1, 0, original_height - 1),\n",
    "                            np.clip(y1 + j - 1, 0, original_width - 1),\n",
    "                        ]\n",
    "                    )\n",
    "            resized_image[x, y] = interpolated_value\n",
    "    return resized_image"
   ]
  },
  {
   "cell_type": "code",
   "execution_count": 62,
   "metadata": {},
   "outputs": [],
   "source": [
    "def lanczos_kernel(x, a):\n",
    "    if abs(x) < a:\n",
    "        return np.sinc(x) * np.sinc(x / a)\n",
    "    else:\n",
    "        return 0\n",
    "\n",
    "\n",
    "def lanczos_interpolation(image, scale, a):\n",
    "    original_height, original_width = image.shape\n",
    "    new_height = int(original_height * scale)\n",
    "    new_width = int(original_width * scale)\n",
    "    resized_image = np.zeros((new_height, new_width), dtype=np.uint8)\n",
    "    for x in range(new_height):\n",
    "        for y in range(new_width):\n",
    "            px = x / scale\n",
    "            py = y / scale\n",
    "            x1 = int(px)\n",
    "            y1 = int(py)\n",
    "            interpolated_value = 0\n",
    "            for i in range(5):\n",
    "                for j in range(5):\n",
    "                    lanczos_x = lanczos_kernel(px - x1 - i + 2, a)\n",
    "                    lanczos_y = lanczos_kernel(py - y1 - j + 2, a)\n",
    "                    interpolated_value += (\n",
    "                        lanczos_x\n",
    "                        * lanczos_y\n",
    "                        * image[\n",
    "                            np.clip(x1 + i - 2, 0, original_height - 1),\n",
    "                            np.clip(y1 + j - 2, 0, original_width - 1),\n",
    "                        ]\n",
    "                    )\n",
    "            resized_image[x, y] = np.clip(interpolated_value, 0, 255)\n",
    "    return resized_image"
   ]
  },
  {
   "cell_type": "code",
   "execution_count": 63,
   "metadata": {},
   "outputs": [
    {
     "name": "stdout",
     "output_type": "stream",
     "text": [
      "(128, 128)\n"
     ]
    }
   ],
   "source": [
    "image2 = resize_image(img2, scale)\n",
    "print(image2.shape)\n",
    "cv2.imshow(\"image\", image2)\n",
    "cv2.waitKey(0)\n",
    "cv2.destroyAllWindows()"
   ]
  },
  {
   "cell_type": "code",
   "execution_count": 64,
   "metadata": {},
   "outputs": [
    {
     "name": "stdout",
     "output_type": "stream",
     "text": [
      "(512, 512)\n",
      "(513, 513)\n",
      "PSNR: 33.382397878982474\n"
     ]
    }
   ],
   "source": [
    "interpolated_image = nearest_neighbor_interpolation(image2, scale)\n",
    "print(interpolated_image.shape)\n",
    "cv2.imshow(\"nearest neighbors interpolation\", interpolated_image)\n",
    "cv2.waitKey(0)\n",
    "cv2.destroyAllWindows()\n",
    "cv2.imwrite(\"q2_nearest_neighbors_interpolation.png\", interpolated_image)\n",
    "interpolated_image_pad = add_padding(interpolated_image)\n",
    "print(interpolated_image_pad.shape)\n",
    "print(\"PSNR:\", psnr(img2, interpolated_image_pad))"
   ]
  },
  {
   "cell_type": "code",
   "execution_count": 65,
   "metadata": {},
   "outputs": [
    {
     "name": "stdout",
     "output_type": "stream",
     "text": [
      "(512, 512)\n",
      "(513, 513)\n",
      "PSNR: 33.50661593085354\n"
     ]
    }
   ],
   "source": [
    "interpolated_image = bilinear_interpolation(image2, scale)\n",
    "print(interpolated_image.shape)\n",
    "cv2.imshow(\"bilinear interpolation\", interpolated_image)\n",
    "cv2.waitKey(0)\n",
    "cv2.destroyAllWindows()\n",
    "cv2.imwrite(\"q2_bilinear_interpolation.png\", interpolated_image)\n",
    "interpolated_image_pad = add_padding(interpolated_image)\n",
    "print(interpolated_image_pad.shape)\n",
    "print(\"PSNR:\", psnr(img2, interpolated_image_pad))"
   ]
  },
  {
   "cell_type": "code",
   "execution_count": 66,
   "metadata": {},
   "outputs": [
    {
     "name": "stdout",
     "output_type": "stream",
     "text": [
      "(512, 512)\n",
      "(513, 513)\n",
      "PSNR: 33.02781205529574\n"
     ]
    }
   ],
   "source": [
    "interpolated_image = bell_interpolation(image2, scale)\n",
    "print(interpolated_image.shape)\n",
    "cv2.imshow(\"bell interpolation\", interpolated_image)\n",
    "cv2.waitKey(0)\n",
    "cv2.destroyAllWindows()\n",
    "cv2.imwrite(\"q2_bell_interpolation.png\", interpolated_image)\n",
    "interpolated_image_pad = add_padding(interpolated_image)\n",
    "print(interpolated_image_pad.shape)\n",
    "print(\"PSNR:\", psnr(img2, interpolated_image_pad))"
   ]
  },
  {
   "cell_type": "code",
   "execution_count": 67,
   "metadata": {},
   "outputs": [
    {
     "name": "stdout",
     "output_type": "stream",
     "text": [
      "(512, 512)\n",
      "(513, 513)\n",
      "PSNR: 33.79011235953498\n"
     ]
    }
   ],
   "source": [
    "interpolated_image = hermite_interpolation(image2, scale)\n",
    "print(interpolated_image.shape)\n",
    "cv2.imshow(\"hermite interpolation\", interpolated_image)\n",
    "cv2.waitKey(0)\n",
    "cv2.destroyAllWindows()\n",
    "cv2.imwrite(\"q2_hermite_interpolation.png\", interpolated_image)\n",
    "interpolated_image_pad = add_padding(interpolated_image)\n",
    "print(interpolated_image_pad.shape)\n",
    "print(\"PSNR:\", psnr(img2, interpolated_image_pad))"
   ]
  },
  {
   "cell_type": "code",
   "execution_count": 68,
   "metadata": {},
   "outputs": [
    {
     "name": "stdout",
     "output_type": "stream",
     "text": [
      "(512, 512)\n",
      "(513, 513)\n",
      "PSNR: 32.84979943379026\n"
     ]
    }
   ],
   "source": [
    "interpolated_image = lanczos_interpolation(image2, scale, 2)\n",
    "print(interpolated_image.shape)\n",
    "cv2.imshow(\"lanczos interpolation\", interpolated_image)\n",
    "cv2.waitKey(0)\n",
    "cv2.destroyAllWindows()\n",
    "cv2.imwrite(\"q2_lanczos_interpolation.png\", interpolated_image)\n",
    "interpolated_image_pad = add_padding(interpolated_image)\n",
    "print(interpolated_image_pad.shape)\n",
    "print(\"PSNR:\", psnr(img2, interpolated_image_pad))"
   ]
  }
 ],
 "metadata": {
  "kernelspec": {
   "display_name": "base",
   "language": "python",
   "name": "python3"
  },
  "language_info": {
   "codemirror_mode": {
    "name": "ipython",
    "version": 3
   },
   "file_extension": ".py",
   "mimetype": "text/x-python",
   "name": "python",
   "nbconvert_exporter": "python",
   "pygments_lexer": "ipython3",
   "version": "3.9.12"
  }
 },
 "nbformat": 4,
 "nbformat_minor": 2
}
