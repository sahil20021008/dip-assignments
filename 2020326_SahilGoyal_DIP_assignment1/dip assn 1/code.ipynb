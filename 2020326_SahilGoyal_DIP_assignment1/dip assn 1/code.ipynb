{
 "cells": [
  {
   "cell_type": "code",
   "execution_count": 123,
   "metadata": {},
   "outputs": [],
   "source": [
    "import cv2 \n",
    "import numpy as np"
   ]
  },
  {
   "cell_type": "code",
   "execution_count": 124,
   "metadata": {},
   "outputs": [],
   "source": [
    "def gamma_correction(image, gamma):\n",
    "    return (np.power(image/255.0,gamma)*255)"
   ]
  },
  {
   "cell_type": "code",
   "execution_count": 125,
   "metadata": {},
   "outputs": [],
   "source": [
    "def pad_image(image,width):\n",
    "    row,col=image.shape\n",
    "    new_image=np.zeros((row+2*width,col+2*width))\n",
    "    new_image[width:row+width,width:col+width]=image\n",
    "    return new_image"
   ]
  },
  {
   "cell_type": "code",
   "execution_count": 126,
   "metadata": {},
   "outputs": [],
   "source": [
    "def convolve(image, kernel,gamma):\n",
    "    image2=gamma_correction(image,gamma)\n",
    "    rows, cols = image2.shape\n",
    "    ker_rows, ker_cols = kernel.shape\n",
    "    padding=(ker_rows-1)//2\n",
    "    image2 = pad_image(image2, padding)\n",
    "    output_image = np.zeros((rows, cols))\n",
    "    for i in range(rows):\n",
    "        for j in range(cols):\n",
    "            for m in range(ker_rows):\n",
    "                for n in range(ker_cols):\n",
    "                    output_image[i,j]+=image2[i+m,j+n]*kernel[m,n]\n",
    "    return output_image"
   ]
  },
  {
   "cell_type": "code",
   "execution_count": 127,
   "metadata": {},
   "outputs": [],
   "source": [
    "def sqroot(img1,img2):\n",
    "    new_img=np.sqrt(np.square(img1)+np.square(img2))\n",
    "    return new_img"
   ]
  },
  {
   "cell_type": "code",
   "execution_count": 128,
   "metadata": {},
   "outputs": [],
   "source": [
    "def add_edge(image,edge):\n",
    "    edge=(edge/np.max(np.abs(edge)))*255\n",
    "    row,col=image.shape\n",
    "    output_image=np.zeros((row,col))\n",
    "    output_image=(image+edge)/1.6\n",
    "    return output_image"
   ]
  },
  {
   "cell_type": "code",
   "execution_count": 129,
   "metadata": {},
   "outputs": [],
   "source": [
    "gamma_variable=2"
   ]
  },
  {
   "cell_type": "markdown",
   "metadata": {},
   "source": [
    "# Part 1"
   ]
  },
  {
   "cell_type": "code",
   "execution_count": 130,
   "metadata": {},
   "outputs": [],
   "source": [
    "img=cv2.imread(\"ruler.512.tiff\",cv2.IMREAD_GRAYSCALE)"
   ]
  },
  {
   "cell_type": "code",
   "execution_count": 131,
   "metadata": {},
   "outputs": [],
   "source": [
    "def gaussian_kernel_maker(sigma,dim):\n",
    "    middle=dim//2\n",
    "    kernel=np.zeros((dim,dim))\n",
    "    for i in range(-middle,middle+1):\n",
    "        for j in range(-middle,middle+1):\n",
    "            kernel[i+middle,j+middle]=(1/(2*np.pi*sigma**2))*np.exp(-(i**2+j**2)/(2*sigma**2))\n",
    "    return kernel"
   ]
  },
  {
   "cell_type": "code",
   "execution_count": 132,
   "metadata": {},
   "outputs": [],
   "source": [
    "def median_convolve(image,kernel_size,gamma):\n",
    "    image2=gamma_correction(image,gamma)\n",
    "    rows, cols = image2.shape\n",
    "    output_image=np.zeros((rows,cols))\n",
    "    kernel_half=kernel_size//2\n",
    "    for i in range(kernel_half,rows-kernel_half):\n",
    "        for j in range(kernel_half,cols-kernel_half):\n",
    "            temp=image2[i-kernel_half:i+kernel_half+1,j-kernel_half:j+kernel_half+1]\n",
    "            output_image[i,j]=np.median(temp)\n",
    "    return output_image"
   ]
  },
  {
   "cell_type": "code",
   "execution_count": 133,
   "metadata": {},
   "outputs": [
    {
     "data": {
      "text/plain": [
       "True"
      ]
     },
     "execution_count": 133,
     "metadata": {},
     "output_type": "execute_result"
    }
   ],
   "source": [
    "# Gaussian Filter\n",
    "gaussian_kernel_3=gaussian_kernel_maker(1,3)\n",
    "gaussian_kernel_5=gaussian_kernel_maker(1,5)\n",
    "cv2.imwrite(\"3x3_gaussian_image_q1.png\",convolve(img,gaussian_kernel_3,gamma_variable))\n",
    "cv2.imwrite(\"5x5_gaussian_image_q1.png\",convolve(img,gaussian_kernel_5,gamma_variable))"
   ]
  },
  {
   "cell_type": "code",
   "execution_count": 134,
   "metadata": {},
   "outputs": [
    {
     "data": {
      "text/plain": [
       "True"
      ]
     },
     "execution_count": 134,
     "metadata": {},
     "output_type": "execute_result"
    }
   ],
   "source": [
    "# Median Filter\n",
    "cv2.imwrite(\"3x3_median_image_q1.png\",median_convolve(img,3,gamma_variable))\n",
    "cv2.imwrite(\"5x5_median_image_q1.png\",median_convolve(img,5,gamma_variable))"
   ]
  },
  {
   "cell_type": "markdown",
   "metadata": {},
   "source": [
    "# Part 2\n"
   ]
  },
  {
   "cell_type": "code",
   "execution_count": 135,
   "metadata": {},
   "outputs": [],
   "source": [
    "image=cv2.imread(\"tank.tiff\",cv2.IMREAD_GRAYSCALE)"
   ]
  },
  {
   "cell_type": "markdown",
   "metadata": {},
   "source": [
    "#### First Order Techniques"
   ]
  },
  {
   "cell_type": "code",
   "execution_count": 136,
   "metadata": {},
   "outputs": [
    {
     "data": {
      "text/plain": [
       "True"
      ]
     },
     "execution_count": 136,
     "metadata": {},
     "output_type": "execute_result"
    }
   ],
   "source": [
    "# Sobel filter\n",
    "sobel_kernel = np.array([[-1, 0, 1], [-2, 0, 2], [-1, 0, 1]])\n",
    "sobel_output = convolve(image, sobel_kernel,gamma_variable)\n",
    "sobel_kernel = np.transpose(sobel_kernel)\n",
    "sobel_output2 = convolve(image, sobel_kernel,gamma_variable)\n",
    "sobel_output=sqroot(sobel_output,sobel_output2)\n",
    "sobel_output=add_edge(image,sobel_output)\n",
    "\n",
    "cv2.imwrite(\"Sobel_filter_q2.png\", sobel_output)\n"
   ]
  },
  {
   "cell_type": "code",
   "execution_count": 137,
   "metadata": {},
   "outputs": [
    {
     "data": {
      "text/plain": [
       "True"
      ]
     },
     "execution_count": 137,
     "metadata": {},
     "output_type": "execute_result"
    }
   ],
   "source": [
    "# Robert filter\n",
    "robert_kernel = np.array([[0, 0, 0], [0, 1, 0], [0, 0, -1]])\n",
    "robert_output = convolve(image, robert_kernel,gamma_variable)\n",
    "robert_kernel = np.array([[0, 0, 0], [0, 0, 1], [0, -1, 0]])\n",
    "robert_output2 = convolve(image, robert_kernel,gamma_variable)\n",
    "robert_output=sqroot(robert_output,robert_output2)\n",
    "robert_output=add_edge(image,robert_output)\n",
    "\n",
    "cv2.imwrite(\"Robert_filter_q2.png\", robert_output)"
   ]
  },
  {
   "cell_type": "code",
   "execution_count": 138,
   "metadata": {},
   "outputs": [
    {
     "data": {
      "text/plain": [
       "True"
      ]
     },
     "execution_count": 138,
     "metadata": {},
     "output_type": "execute_result"
    }
   ],
   "source": [
    "# Prewitt filter\n",
    "prewitt_kernel = np.array([[-1, 0, 1], [-1, 0, 1], [-1, 0, 1]])\n",
    "prewitt_output = convolve(image, prewitt_kernel,gamma_variable)\n",
    "prewitt_kernel = np.transpose(prewitt_kernel)\n",
    "prewitt_output2 = convolve(image, prewitt_kernel,gamma_variable)\n",
    "prewitt_output=sqroot(prewitt_output,prewitt_output2)\n",
    "prewitt_output=add_edge(image,prewitt_output)\n",
    "\n",
    "cv2.imwrite(\"Prewitt_filter_q2.png\", prewitt_output)"
   ]
  },
  {
   "cell_type": "code",
   "execution_count": 139,
   "metadata": {},
   "outputs": [
    {
     "data": {
      "text/plain": [
       "True"
      ]
     },
     "execution_count": 139,
     "metadata": {},
     "output_type": "execute_result"
    }
   ],
   "source": [
    "# Scharr filter\n",
    "scharr_kernel = np.array([[-3, 0, 3],[-10, 0, 10],[-3, 0, 3]])\n",
    "scharr_output = convolve(image, scharr_kernel,gamma_variable)\n",
    "scharr_kernel = np.transpose(scharr_kernel)\n",
    "scharr_output2 = convolve(image, scharr_kernel,gamma_variable)\n",
    "scharr_output=sqroot(scharr_output,scharr_output2)\n",
    "scharr_output=add_edge(image,scharr_output)\n",
    "\n",
    "cv2.imwrite(\"Scharr_filter_q2.png\", scharr_output)"
   ]
  },
  {
   "cell_type": "markdown",
   "metadata": {},
   "source": [
    "#### Second Order Techniques"
   ]
  },
  {
   "cell_type": "code",
   "execution_count": 140,
   "metadata": {},
   "outputs": [
    {
     "data": {
      "text/plain": [
       "True"
      ]
     },
     "execution_count": 140,
     "metadata": {},
     "output_type": "execute_result"
    }
   ],
   "source": [
    "# Laplacian filter\n",
    "laplacian_kernel = np.array([[0, -1, 0],[-1, 4, -1],[0, -1, 0]])\n",
    "laplacian_output = convolve(image, laplacian_kernel,gamma_variable)\n",
    "laplacian_output=add_edge(image,laplacian_output)\n",
    "\n",
    "cv2.imwrite(\"Laplacian_filter_q2.png\", laplacian_output)"
   ]
  },
  {
   "cell_type": "code",
   "execution_count": 141,
   "metadata": {},
   "outputs": [
    {
     "data": {
      "text/plain": [
       "True"
      ]
     },
     "execution_count": 141,
     "metadata": {},
     "output_type": "execute_result"
    }
   ],
   "source": [
    "# enhanced Laplacian filter\n",
    "enhanced_laplacian_kernel = np.array([[-1,-1,-1],[-1,9,-1],[-1,-1,-1]])\n",
    "enhanced_laplacian_output = convolve(image, enhanced_laplacian_kernel,gamma_variable)\n",
    "enhanced_laplacian_output=add_edge(image,enhanced_laplacian_output)\n",
    "\n",
    "cv2.imwrite(\"Enhanced_laplacian_filter_q2.png\", enhanced_laplacian_output)"
   ]
  },
  {
   "cell_type": "code",
   "execution_count": 142,
   "metadata": {},
   "outputs": [
    {
     "data": {
      "text/plain": [
       "True"
      ]
     },
     "execution_count": 142,
     "metadata": {},
     "output_type": "execute_result"
    }
   ],
   "source": [
    "# Laplacian of Gaussian filter\n",
    "gaussian_smooth=gaussian_kernel_maker(0.2,3)\n",
    "image2=convolve(image,gaussian_smooth,gamma_variable)\n",
    "log_output = convolve(image2, laplacian_kernel,gamma_variable)\n",
    "log_output=add_edge(image,log_output)\n",
    "\n",
    "cv2.imwrite(\"Laplacian_of_Gaussian_filter_q2.png\", log_output)"
   ]
  },
  {
   "cell_type": "code",
   "execution_count": 143,
   "metadata": {},
   "outputs": [
    {
     "data": {
      "text/plain": [
       "True"
      ]
     },
     "execution_count": 143,
     "metadata": {},
     "output_type": "execute_result"
    }
   ],
   "source": [
    "# Difference of Gaussian filter\n",
    "gaussian_kernel_2=gaussian_kernel_maker(1,3)\n",
    "gaussian_kernel_1=gaussian_kernel_maker(0.5,3)\n",
    "dog_kernel=gaussian_kernel_1-gaussian_kernel_2\n",
    "dog_output=convolve(image, dog_kernel,1)\n",
    "dog_output=add_edge(image,dog_output)\n",
    "\n",
    "cv2.imwrite(\"Difference_of_Gaussian_filter_q2.png\", dog_output)"
   ]
  }
 ],
 "metadata": {
  "kernelspec": {
   "display_name": "Python 3",
   "language": "python",
   "name": "python3"
  },
  "language_info": {
   "codemirror_mode": {
    "name": "ipython",
    "version": 3
   },
   "file_extension": ".py",
   "mimetype": "text/x-python",
   "name": "python",
   "nbconvert_exporter": "python",
   "pygments_lexer": "ipython3",
   "version": "3.9.12"
  }
 },
 "nbformat": 4,
 "nbformat_minor": 2
}
